{
 "cells": [
  {
   "cell_type": "code",
   "execution_count": 1,
   "id": "47222ddf-e45d-4f3e-9b28-c14d028ae51a",
   "metadata": {
    "tags": []
   },
   "outputs": [],
   "source": [
    "from czysc import czysc"
   ]
  },
  {
   "cell_type": "code",
   "execution_count": 2,
   "id": "c63db22c-bb21-40e8-bad8-36539895da81",
   "metadata": {
    "tags": []
   },
   "outputs": [],
   "source": [
    "czysc()"
   ]
  },
  {
   "cell_type": "code",
   "execution_count": 3,
   "id": "20cd097b-5fb0-49b1-be45-fcb14c911a1d",
   "metadata": {
    "tags": []
   },
   "outputs": [],
   "source": [
    "from importuj import importuj"
   ]
  },
  {
   "cell_type": "code",
   "execution_count": 4,
   "id": "67802bc0-2da5-46e5-945c-8f4c53c6f5d9",
   "metadata": {
    "tags": []
   },
   "outputs": [
    {
     "name": "stdin",
     "output_type": "stream",
     "text": [
      "Podaj nazwe pliku csv z klientami (z rozszerzeniem):  klienci.csv\n",
      "Podaj nazwe pliku csv z odczytami (z rozszerzeniem):  odczyty.csv\n"
     ]
    }
   ],
   "source": [
    "importuj()"
   ]
  },
  {
   "cell_type": "code",
   "execution_count": 5,
   "id": "f1a6c4d9-531e-40e2-a091-e06bdc1819df",
   "metadata": {
    "tags": []
   },
   "outputs": [],
   "source": [
    "from wynik import wynik"
   ]
  },
  {
   "cell_type": "code",
   "execution_count": 6,
   "id": "ac55d20f-b99a-4109-85b0-d79944193653",
   "metadata": {
    "tags": []
   },
   "outputs": [
    {
     "name": "stdout",
     "output_type": "stream",
     "text": [
      "(1, 'Adam', 'Mądry', 'Zielona 2/2 Wrocław', 1670, datetime.date(2023, 6, 21))\n",
      "(2, 'Zbigniew', 'Kowal', 'Zielona 2 Opole', 1320, datetime.date(2023, 6, 21))\n",
      "(3, 'Jan', 'Mądry', 'Enigmatyczna 7 Łódź', 1890, datetime.date(2023, 6, 21))\n",
      "(5, 'Ernest', 'Nim', 'Adresowa 7 Wrocław', 1110, datetime.date(2023, 6, 21))\n"
     ]
    }
   ],
   "source": [
    "wynik()"
   ]
  },
  {
   "cell_type": "code",
   "execution_count": null,
   "id": "56cc8b7a-f38f-4fe2-a9f1-ac11f7fc5b37",
   "metadata": {},
   "outputs": [],
   "source": []
  }
 ],
 "metadata": {
  "kernelspec": {
   "display_name": "DBMS1 (SQLAlchemy)",
   "language": "python",
   "name": "dbms1"
  },
  "language_info": {
   "codemirror_mode": {
    "name": "ipython",
    "version": 3
   },
   "file_extension": ".py",
   "mimetype": "text/x-python",
   "name": "python",
   "nbconvert_exporter": "python",
   "pygments_lexer": "ipython3",
   "version": "3.11.2"
  }
 },
 "nbformat": 4,
 "nbformat_minor": 5
}
